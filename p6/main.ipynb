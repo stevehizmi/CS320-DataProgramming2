{
 "cells": [
  {
   "cell_type": "code",
   "execution_count": 1,
   "metadata": {},
   "outputs": [],
   "source": [
    "# project: p6\n",
    "# submitter: mchiang7\n",
    "# partner: ehizmi"
   ]
  },
  {
   "cell_type": "code",
   "execution_count": 94,
   "metadata": {},
   "outputs": [],
   "source": [
    "import csv\n",
    "import operator\n",
    "\n",
    "# copied from https://automatetheboringstuff.com/chapter14/\n",
    "def process_csv(filename):\n",
    "    exampleFile = open(filename, encoding=\"utf-8\")\n",
    "    exampleReader = csv.reader(exampleFile)\n",
    "    exampleData = list(exampleReader)\n",
    "    exampleFile.close()\n",
    "    return exampleData\n",
    "\n",
    "# use process_csv to pull out the header and data rows\n",
    "csv_rows = process_csv(\"wine.csv\")\n",
    "csv_header = csv_rows[0]\n",
    "csv_data = csv_rows[1:]"
   ]
  },
  {
   "cell_type": "code",
   "execution_count": 3,
   "metadata": {},
   "outputs": [
    {
     "data": {
      "text/plain": [
       "['US',\n",
       " 'Spain',\n",
       " 'France',\n",
       " 'Italy',\n",
       " 'New Zealand',\n",
       " 'Bulgaria',\n",
       " 'Argentina',\n",
       " 'Australia',\n",
       " 'Portugal',\n",
       " 'Israel',\n",
       " 'South Africa',\n",
       " 'Greece',\n",
       " 'Chile',\n",
       " 'Morocco',\n",
       " 'Romania',\n",
       " 'Germany',\n",
       " 'Canada',\n",
       " 'Moldova',\n",
       " 'Hungary',\n",
       " 'Austria',\n",
       " 'Croatia',\n",
       " 'Slovenia',\n",
       " 'India']"
      ]
     },
     "execution_count": 3,
     "metadata": {},
     "output_type": "execute_result"
    }
   ],
   "source": [
    "#q1\n",
    "countries = []\n",
    "for i in range(len(csv_data)):\n",
    "    if csv_data[i][0] == '':\n",
    "        continue\n",
    "    elif csv_data[i][0] not in countries:\n",
    "        countries.append(csv_data[i][0])\n",
    "countries"
   ]
  },
  {
   "cell_type": "code",
   "execution_count": 4,
   "metadata": {},
   "outputs": [
    {
     "data": {
      "text/plain": [
       "39.40787623066104"
      ]
     },
     "execution_count": 4,
     "metadata": {},
     "output_type": "execute_result"
    }
   ],
   "source": [
    "#q2\n",
    "total_price = 0.0\n",
    "num_wines = 0.0\n",
    "for i in range(len(csv_data)):\n",
    "    if csv_data[i][2] == '':\n",
    "        continue\n",
    "    elif csv_data[i][2] not in countries:\n",
    "        total_price += float(csv_data[i][2])\n",
    "        num_wines += 1.0\n",
    "total_price/num_wines"
   ]
  },
  {
   "cell_type": "code",
   "execution_count": 5,
   "metadata": {},
   "outputs": [
    {
     "data": {
      "text/plain": [
       "['Kumeu River', 'Spy Valley', 'Felton Road']"
      ]
     },
     "execution_count": 5,
     "metadata": {},
     "output_type": "execute_result"
    }
   ],
   "source": [
    "#q3\n",
    "wineries = []\n",
    "for i in range(len(csv_data)):\n",
    "    if csv_data[i][0] == 'New Zealand':\n",
    "        if csv_data[i][4] != '' and csv_data[i][4] not in wineries:\n",
    "            wineries.append(csv_data[i][4])\n",
    "wineries"
   ]
  },
  {
   "cell_type": "code",
   "execution_count": 6,
   "metadata": {},
   "outputs": [
    {
     "data": {
      "text/plain": [
       "['Pinot Noir',\n",
       " 'Cabernet Sauvignon',\n",
       " 'Zinfandel',\n",
       " 'Lemberger',\n",
       " 'Aglianico',\n",
       " 'Bordeaux-style Red Blend',\n",
       " 'Cabernet Franc',\n",
       " 'Sangiovese',\n",
       " 'Merlot',\n",
       " 'Nebbiolo',\n",
       " 'Blaufränkisch',\n",
       " 'Meritage',\n",
       " 'Rosé']"
      ]
     },
     "execution_count": 6,
     "metadata": {},
     "output_type": "execute_result"
    }
   ],
   "source": [
    "#q4\n",
    "wineries = []\n",
    "for i in range(len(csv_data)):\n",
    "    if 'cranberry' in csv_data[i][5]:\n",
    "        if csv_data[i][3] != '' and csv_data[i][3] not in wineries:\n",
    "            wineries.append(csv_data[i][3])\n",
    "wineries"
   ]
  },
  {
   "cell_type": "code",
   "execution_count": 7,
   "metadata": {},
   "outputs": [
    {
     "data": {
      "text/plain": [
       "['Pinot Grigio', 'Chardonnay', 'Sparkling Blend']"
      ]
     },
     "execution_count": 7,
     "metadata": {},
     "output_type": "execute_result"
    }
   ],
   "source": [
    "#q5\n",
    "wineries = []\n",
    "for i in range(len(csv_data)):\n",
    "    if 'lemon-lime soda' in csv_data[i][5]:\n",
    "        if csv_data[i][3] != '' and csv_data[i][3] not in wineries:\n",
    "            wineries.append(csv_data[i][3])\n",
    "wineries"
   ]
  },
  {
   "cell_type": "code",
   "execution_count": 8,
   "metadata": {},
   "outputs": [
    {
     "data": {
      "text/plain": [
       "['Tinta de Toro', 'Cabernet Sauvignon', 'Tempranillo', 'Red Blend', 'Castelão']"
      ]
     },
     "execution_count": 8,
     "metadata": {},
     "output_type": "execute_result"
    }
   ],
   "source": [
    "#q6\n",
    "wineries = []\n",
    "for i in range(len(csv_data)):\n",
    "    if 'black-fruit' in csv_data[i][5]:\n",
    "        if csv_data[i][3] != '' and csv_data[i][3] not in wineries:\n",
    "            wineries.append(csv_data[i][3])\n",
    "wineries"
   ]
  },
  {
   "cell_type": "code",
   "execution_count": 9,
   "metadata": {},
   "outputs": [
    {
     "data": {
      "text/plain": [
       "['Cabernet Sauvignon']"
      ]
     },
     "execution_count": 9,
     "metadata": {},
     "output_type": "execute_result"
    }
   ],
   "source": [
    "#q7\n",
    "varieties = []\n",
    "anagram = sorted('antibusgovernance')\n",
    "for i in range(len(csv_data)):\n",
    "    variety = sorted(csv_data[i][3].lower().replace(\" \", \"\"))\n",
    "    if variety == anagram and csv_data[i][3] not in varieties:\n",
    "        varieties.append(csv_data[i][3])\n",
    "varieties"
   ]
  },
  {
   "cell_type": "code",
   "execution_count": 10,
   "metadata": {},
   "outputs": [
    {
     "data": {
      "text/plain": [
       "123"
      ]
     },
     "execution_count": 10,
     "metadata": {},
     "output_type": "execute_result"
    }
   ],
   "source": [
    "#q8\n",
    "wineries = []\n",
    "for i in range(len(csv_data)):\n",
    "    if 'Pinot Noir' == csv_data[i][3]:\n",
    "        if csv_data[i][4] != '' and csv_data[i][4].lower() not in wineries:\n",
    "            wineries.append(csv_data[i][4].lower())\n",
    "len(wineries)"
   ]
  },
  {
   "cell_type": "code",
   "execution_count": 11,
   "metadata": {},
   "outputs": [
    {
     "data": {
      "text/plain": [
       "['Tinta de Toro']"
      ]
     },
     "execution_count": 11,
     "metadata": {},
     "output_type": "execute_result"
    }
   ],
   "source": [
    "#q9\n",
    "spain_indexes = []\n",
    "for i in range(len(csv_data)):\n",
    "    if csv_data[i][0] == 'Spain':\n",
    "        spain_indexes.append(i)\n",
    "\n",
    "max_variety = ''\n",
    "highest_rating = -1\n",
    "for i in spain_indexes:\n",
    "    if int(csv_data[i][1]) > highest_rating:\n",
    "        highest_rating = int(csv_data[i][1])\n",
    "        max_variety = csv_data[i][3]\n",
    "thing = [max_variety]\n",
    "thing"
   ]
  },
  {
   "cell_type": "code",
   "execution_count": 12,
   "metadata": {},
   "outputs": [
    {
     "data": {
      "text/plain": [
       "['Gaja']"
      ]
     },
     "execution_count": 12,
     "metadata": {},
     "output_type": "execute_result"
    }
   ],
   "source": [
    "#q10\n",
    "italy_idexes = []\n",
    "for i in range(len(csv_data)):\n",
    "    if csv_data[i][0] == 'Italy':\n",
    "        italy_idexes.append(i)\n",
    "\n",
    "max_winery = ''\n",
    "highest_price = -1.0\n",
    "for i in italy_idexes:\n",
    "    string_price = csv_data[i][2]\n",
    "    if string_price != '':\n",
    "        price = float(string_price.strip())\n",
    "        if price > highest_price:\n",
    "            highest_price = price\n",
    "            max_winery = csv_data[i][4]        \n",
    "thing = [max_winery]\n",
    "thing"
   ]
  },
  {
   "cell_type": "code",
   "execution_count": 13,
   "metadata": {},
   "outputs": [],
   "source": [
    "def ppd(winery):\n",
    "    indexes = []\n",
    "    for i in range(len(csv_data)):\n",
    "        if csv_data[i][4] == winery:\n",
    "            indexes.append(i)\n",
    "    \n",
    "    ratios = []\n",
    "    for i in indexes:\n",
    "        if csv_data[i][1] != '' and csv_data[i][2] != '':\n",
    "            points = float(csv_data[i][1])\n",
    "            price = float(csv_data[i][2])\n",
    "            ratios.append(points/price)\n",
    "        \n",
    "    total_ratios = 0\n",
    "    for i in ratios:\n",
    "        total_ratios += i\n",
    "        \n",
    "    if len(ratios) == 0:\n",
    "        return -1.0\n",
    "    return total_ratios/len(ratios)"
   ]
  },
  {
   "cell_type": "code",
   "execution_count": 14,
   "metadata": {},
   "outputs": [
    {
     "data": {
      "text/plain": [
       "1.98628003003003"
      ]
     },
     "execution_count": 14,
     "metadata": {},
     "output_type": "execute_result"
    }
   ],
   "source": [
    "#q11\n",
    "ppd(\"Patricia Green Cellars\")"
   ]
  },
  {
   "cell_type": "code",
   "execution_count": 15,
   "metadata": {},
   "outputs": [
    {
     "data": {
      "text/plain": [
       "0.2923076923076923"
      ]
     },
     "execution_count": 15,
     "metadata": {},
     "output_type": "execute_result"
    }
   ],
   "source": [
    "#q12\n",
    "ppd(\"Hall\")"
   ]
  },
  {
   "cell_type": "code",
   "execution_count": 100,
   "metadata": {},
   "outputs": [],
   "source": [
    "def highest_avg_in(country):\n",
    "#     wineries_in_country = []\n",
    "#     for i in range(len(csv_data)):\n",
    "#         if csv_data[i][4] != '' and csv_data[i][0] == country and csv_data[i][0] not in wineries_in_country:\n",
    "#             wineries_in_country.append(csv_data[i][4])\n",
    "    \n",
    "#     data = []\n",
    "#     for winery in wineries_in_country:\n",
    "#         data.append([winery, ppd(winery)])\n",
    "        \n",
    "#     highest = []\n",
    "#     max_ppd = 0\n",
    "#     for i in data:\n",
    "#         if i[1] > max_ppd:\n",
    "#             max_ppd = i[1]\n",
    "    \n",
    "#     for i in data:\n",
    "#         if i[1] == max_ppd:\n",
    "#             highest.append(i[0])\n",
    "        \n",
    "#     return highest\n",
    "    wineries = []\n",
    "    for i in range(len(csv_data)):\n",
    "        if csv_data[i][4] != '' and csv_data[i][0] == country:\n",
    "            if csv_data[i][0] not in wineries:\n",
    "                wineries.append(csv_data[i][4])\n",
    "    \n",
    "    wineries_ppd = {}\n",
    "    for winery in wineries:\n",
    "        ppd_ = ppd(winery)\n",
    "        wineries_ppd[winery] = ppd_\n",
    "        \n",
    "    sorted_ppd = list(sorted(wineries_ppd.items(), key=operator.itemgetter(1)))\n",
    "    i = len(sorted_ppd) -2\n",
    "    max_list = [sorted_ppd[len(sorted_ppd) -1]]\n",
    "    while i >= 0:\n",
    "        if max_list[0][1] == sorted_ppd[i][1]:\n",
    "            max_list.append(sorted_ppd[i])\n",
    "        else:\n",
    "            break\n",
    "        i -=1\n",
    "    \n",
    "    final_list = []\n",
    "    for x in max_list:\n",
    "        final_list.append(x[0])\n",
    "    return final_list"
   ]
  },
  {
   "cell_type": "code",
   "execution_count": 105,
   "metadata": {},
   "outputs": [
    {
     "data": {
      "text/plain": [
       "['Grand Pacific']"
      ]
     },
     "execution_count": 105,
     "metadata": {},
     "output_type": "execute_result"
    }
   ],
   "source": [
    "#q13\n",
    "highest_avg_in('US')"
   ]
  },
  {
   "cell_type": "code",
   "execution_count": 106,
   "metadata": {},
   "outputs": [
    {
     "data": {
      "text/plain": [
       "['KWV', 'Robertson Winery', 'Essay', 'Long Neck']"
      ]
     },
     "execution_count": 106,
     "metadata": {},
     "output_type": "execute_result"
    }
   ],
   "source": [
    "#q14\n",
    "highest_avg_in(\"South Africa\")"
   ]
  },
  {
   "cell_type": "code",
   "execution_count": 107,
   "metadata": {},
   "outputs": [
    {
     "data": {
      "text/plain": [
       "['Finca Las Moras']"
      ]
     },
     "execution_count": 107,
     "metadata": {},
     "output_type": "execute_result"
    }
   ],
   "source": [
    "#q15\n",
    "highest_avg_in(\"Argentina\")"
   ]
  },
  {
   "cell_type": "code",
   "execution_count": 20,
   "metadata": {},
   "outputs": [],
   "source": [
    "def varieties_of_winery(winery):\n",
    "    varieties = []\n",
    "    for i in range(len(csv_data)):\n",
    "        if csv_data[i][4] == winery:\n",
    "            if csv_data[i][3] != '' and csv_data[i][3] not in varieties:\n",
    "                varieties.append(csv_data[i][3])\n",
    "    return varieties"
   ]
  },
  {
   "cell_type": "code",
   "execution_count": 21,
   "metadata": {},
   "outputs": [
    {
     "data": {
      "text/plain": [
       "['Cabernet Franc']"
      ]
     },
     "execution_count": 21,
     "metadata": {},
     "output_type": "execute_result"
    }
   ],
   "source": [
    "#q16\n",
    "varieties_of_winery('Ironstone')"
   ]
  },
  {
   "cell_type": "code",
   "execution_count": 22,
   "metadata": {},
   "outputs": [
    {
     "data": {
      "text/plain": [
       "['Portuguese White', 'Portuguese Rosé', 'Portuguese Red']"
      ]
     },
     "execution_count": 22,
     "metadata": {},
     "output_type": "execute_result"
    }
   ],
   "source": [
    "#q17\n",
    "varieties_of_winery('Quinta Nova de Nossa Senhora do Carmo')"
   ]
  },
  {
   "cell_type": "code",
   "execution_count": 110,
   "metadata": {},
   "outputs": [
    {
     "data": {
      "text/plain": [
       "15.384615384615385"
      ]
     },
     "execution_count": 110,
     "metadata": {},
     "output_type": "execute_result"
    }
   ],
   "source": [
    "#q18\n",
    "'''\n",
    "Denominator is number of wine varieties with \"cranberry\" \n",
    "in the description of one of its wines. Numerator is the \n",
    "number of wine varieties that have both \"cranberry\" and \n",
    "\"black-fruit\" in the description of one of its wines \n",
    "(the two wines need not be the same).\n",
    "'''\n",
    "all_varieties = {}\n",
    "for i in range(len(csv_data)):\n",
    "    v = csv_data[i][3]\n",
    "    d = csv_data[i][5]\n",
    "    if v not in all_varieties:\n",
    "        all_varieties[v] = [d]\n",
    "    else:\n",
    "        all_varieties[v].append(d)\n",
    "varieties_both = []\n",
    "varieties_cran = []\n",
    "for v in all_varieties:\n",
    "    cran, b_f = False, False\n",
    "    for d in all_varieties[v]:\n",
    "        if 'cranberry' in d:\n",
    "            cran = True\n",
    "            #print('cranberry in ' + v)\n",
    "        if 'black-fruit' in d:\n",
    "            b_f = True\n",
    "            #print('balck-fruit in ' + v)\n",
    "    if cran == True and b_f == True:\n",
    "        if v not in varieties_both:\n",
    "            varieties_both.append(v)\n",
    "    if cran == True:\n",
    "        if v not in varieties_cran:\n",
    "            varieties_cran.append(v)\n",
    "len(varieties)/len(varieties_cran)*100"
   ]
  },
  {
   "cell_type": "code",
   "execution_count": 37,
   "metadata": {},
   "outputs": [
    {
     "data": {
      "text/plain": [
       "130.0"
      ]
     },
     "execution_count": 37,
     "metadata": {},
     "output_type": "execute_result"
    }
   ],
   "source": [
    "#q19\n",
    "most_expensive = 0\n",
    "for i in range(len(csv_data)):\n",
    "    country = csv_data[i][0]\n",
    "    price = csv_data[i][2]\n",
    "    if country == 'Portugal' and price != '':\n",
    "        if float(price) > most_expensive:\n",
    "            most_expensive = float(price)\n",
    "most_expensive"
   ]
  },
  {
   "cell_type": "code",
   "execution_count": 57,
   "metadata": {},
   "outputs": [
    {
     "data": {
      "text/plain": [
       "281.0"
      ]
     },
     "execution_count": 57,
     "metadata": {},
     "output_type": "execute_result"
    }
   ],
   "source": [
    "#q20\n",
    "prices = []\n",
    "all_prices = []\n",
    "for i in range(len(csv_data)):\n",
    "    country = csv_data[i][0]\n",
    "    price = csv_data[i][2]\n",
    "    if country == 'Portugal' and price != '':\n",
    "        prices.append(float(price))\n",
    "    if price != '':\n",
    "        all_prices.append(float(price))\n",
    "prices = sorted(prices)\n",
    "all_prices = sorted(all_prices)\n",
    "price = prices[0]*3 + prices[-1]*2\n",
    "price"
   ]
  },
  {
   "cell_type": "code",
   "execution_count": null,
   "metadata": {},
   "outputs": [],
   "source": []
  }
 ],
 "metadata": {
  "kernelspec": {
   "display_name": "Python 3",
   "language": "python",
   "name": "python3"
  },
  "language_info": {
   "codemirror_mode": {
    "name": "ipython",
    "version": 3
   },
   "file_extension": ".py",
   "mimetype": "text/x-python",
   "name": "python",
   "nbconvert_exporter": "python",
   "pygments_lexer": "ipython3",
   "version": "3.7.4"
  }
 },
 "nbformat": 4,
 "nbformat_minor": 2
}
