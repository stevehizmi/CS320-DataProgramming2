{
 "cells": [
  {
   "cell_type": "code",
   "execution_count": 1,
   "metadata": {},
   "outputs": [],
   "source": [
    "#project: P1\n",
    "#submitter: shizmi\n",
    "#partner: None"
   ]
  },
  {
   "cell_type": "code",
   "execution_count": 2,
   "metadata": {},
   "outputs": [
    {
     "data": {
      "text/plain": [
       "''"
      ]
     },
     "execution_count": 2,
     "metadata": {},
     "output_type": "execute_result"
    }
   ],
   "source": [
    "%matplotlib inline\n",
    "import numpy as np\n",
    "import os, subprocess, json, random, string, time\n",
    "from matplotlib import pyplot as plt\n",
    "from datetime import datetime # yes, both the module and type are named datetime\n",
    "import matplotlib.ticker as ticker\n",
    "from pandas import Series, pandas as pd\n",
    "from git import Repo\n",
    "dirname = \"repo\"\n",
    "repo = Repo(dirname)\n",
    "repo.git.checkout(\"master\")"
   ]
  },
  {
   "cell_type": "code",
   "execution_count": 3,
   "metadata": {},
   "outputs": [
    {
     "data": {
      "text/plain": [
       "8"
      ]
     },
     "execution_count": 3,
     "metadata": {},
     "output_type": "execute_result"
    }
   ],
   "source": [
    "# q1\n",
    "len(list(repo.iter_commits()))"
   ]
  },
  {
   "cell_type": "code",
   "execution_count": 4,
   "metadata": {},
   "outputs": [
    {
     "data": {
      "text/plain": [
       "{'Steve': 3, 'Ada': 3, 'Linus': 2}"
      ]
     },
     "execution_count": 4,
     "metadata": {},
     "output_type": "execute_result"
    }
   ],
   "source": [
    "#q2\n",
    "commits = list(repo.iter_commits())\n",
    "commitsAuthor = {}\n",
    "for commit in commits:\n",
    "    if commit.author.name not in commitsAuthor:\n",
    "        commitsAuthor[commit.author.name] = 1\n",
    "    else:\n",
    "        commitsAuthor[commit.author.name] += 1\n",
    "commitsAuthor"
   ]
  },
  {
   "cell_type": "code",
   "execution_count": 5,
   "metadata": {
    "scrolled": true
   },
   "outputs": [
    {
     "data": {
      "text/plain": [
       "<matplotlib.axes._subplots.AxesSubplot at 0x7fc2c39b3eb8>"
      ]
     },
     "execution_count": 5,
     "metadata": {},
     "output_type": "execute_result"
    },
    {
     "data": {
      "image/png": "[encoded data removed]",
      "text/plain": [
       "<Figure size 432x288 with 1 Axes>"
      ]
     },
     "metadata": {
      "needs_background": "light"
     },
     "output_type": "display_data"
    }
   ],
   "source": [
    "#q3\n",
    "def get_ax():\n",
    "    ax = plt.subplot()\n",
    "    ax.spines[\"top\"].set_visible(False)\n",
    "    ax.spines[\"right\"].set_visible(False)\n",
    "    return ax\n",
    "ax = get_ax()\n",
    "ax.set_ylabel(\"Commit Count\")\n",
    "for axis in [ax.xaxis, ax.yaxis]:\n",
    "    axis.set_major_locator(ticker.MaxNLocator(integer=True))\n",
    "Series(commitsAuthor).plot.bar(ax=ax,color='black')"
   ]
  },
  {
   "cell_type": "code",
   "execution_count": 6,
   "metadata": {},
   "outputs": [
    {
     "data": {
      "text/plain": [
       "{'Steve'}"
      ]
     },
     "execution_count": 6,
     "metadata": {},
     "output_type": "execute_result"
    }
   ],
   "source": [
    "#q4\n",
    "commits = list(repo.iter_commits())\n",
    "people = set()\n",
    "for i in range(len(commits)):\n",
    "    dt = datetime.fromtimestamp(commits[i].authored_date)\n",
    "    if dt.weekday() == 5 or dt.weekday() == 6:\n",
    "        people.add(commits[i].author.name)\n",
    "people"
   ]
  },
  {
   "cell_type": "code",
   "execution_count": 7,
   "metadata": {},
   "outputs": [],
   "source": [
    "commits = list(repo.iter_commits())[::-1]\n",
    "lines = []\n",
    "days = []\n",
    "for commit in commits:\n",
    "    lineCount = 0\n",
    "    repo.git.checkout(commit)\n",
    "    with open(os.path.join('repo','wc.py')) as f:\n",
    "        for line in f:\n",
    "            lineCount += 1\n",
    "    lines.append(lineCount)\n",
    "    days.append(datetime.fromtimestamp(commit.authored_date))\n",
    "    \n",
    "day_list = []\n",
    "first_day = days[0]\n",
    "for i in range(len(days)):\n",
    "    day_list.append((days[i] - first_day ).seconds / 86400 + ( days[i] - first_day).days)"
   ]
  },
  {
   "cell_type": "code",
   "execution_count": 8,
   "metadata": {},
   "outputs": [
    {
     "data": {
      "text/html": [
       "<div>\n",
       "<style scoped>\n",
       "    .dataframe tbody tr th:only-of-type {\n",
       "        vertical-align: middle;\n",
       "    }\n",
       "\n",
       "    .dataframe tbody tr th {\n",
       "        vertical-align: top;\n",
       "    }\n",
       "\n",
       "    .dataframe thead th {\n",
       "        text-align: right;\n",
       "    }\n",
       "</style>\n",
       "<table border=\"1\" class=\"dataframe\">\n",
       "  <thead>\n",
       "    <tr style=\"text-align: right;\">\n",
       "      <th></th>\n",
       "      <th>days</th>\n",
       "      <th>lines</th>\n",
       "    </tr>\n",
       "  </thead>\n",
       "  <tbody>\n",
       "    <tr>\n",
       "      <th>0</th>\n",
       "      <td>0.000000</td>\n",
       "      <td>21</td>\n",
       "    </tr>\n",
       "    <tr>\n",
       "      <th>1</th>\n",
       "      <td>1.005046</td>\n",
       "      <td>35</td>\n",
       "    </tr>\n",
       "    <tr>\n",
       "      <th>2</th>\n",
       "      <td>3.880046</td>\n",
       "      <td>35</td>\n",
       "    </tr>\n",
       "    <tr>\n",
       "      <th>3</th>\n",
       "      <td>4.087963</td>\n",
       "      <td>39</td>\n",
       "    </tr>\n",
       "    <tr>\n",
       "      <th>4</th>\n",
       "      <td>5.921296</td>\n",
       "      <td>40</td>\n",
       "    </tr>\n",
       "    <tr>\n",
       "      <th>5</th>\n",
       "      <td>6.962963</td>\n",
       "      <td>40</td>\n",
       "    </tr>\n",
       "    <tr>\n",
       "      <th>6</th>\n",
       "      <td>9.171296</td>\n",
       "      <td>40</td>\n",
       "    </tr>\n",
       "    <tr>\n",
       "      <th>7</th>\n",
       "      <td>11.046296</td>\n",
       "      <td>43</td>\n",
       "    </tr>\n",
       "  </tbody>\n",
       "</table>\n",
       "</div>"
      ],
      "text/plain": [
       "        days  lines\n",
       "0   0.000000     21\n",
       "1   1.005046     35\n",
       "2   3.880046     35\n",
       "3   4.087963     39\n",
       "4   5.921296     40\n",
       "5   6.962963     40\n",
       "6   9.171296     40\n",
       "7  11.046296     43"
      ]
     },
     "execution_count": 8,
     "metadata": {},
     "output_type": "execute_result"
    }
   ],
   "source": [
    "#q5 \n",
    "df = pd.DataFrame(list(zip(day_list, lines)), \n",
    "               columns =['days', 'lines']) \n",
    "df"
   ]
  },
  {
   "cell_type": "code",
   "execution_count": 9,
   "metadata": {},
   "outputs": [
    {
     "data": {
      "image/png": "[encoded data removed]",
      "text/plain": [
       "<Figure size 432x288 with 1 Axes>"
      ]
     },
     "metadata": {
      "needs_background": "light"
     },
     "output_type": "display_data"
    }
   ],
   "source": [
    "#q6\n",
    "ax = get_ax()\n",
    "ax.plot(day_list, lines, color ='red')\n",
    "plt.yticks(np.arange(0, max(lines)+1, 10))\n",
    "plt.ylim(0)\n",
    "plt.xlim(0)\n",
    "plt.xlabel('Days Since Creation')\n",
    "plt.ylabel('Lines of Code in Repo')\n",
    "plt.show()"
   ]
  },
  {
   "cell_type": "code",
   "execution_count": 10,
   "metadata": {},
   "outputs": [],
   "source": [
    "def run_wc(body, commit=None):\n",
    "    if 'repo' not in os.getcwd():\n",
    "        os.chdir(os.path.join(os.getcwd(),'repo'))\n",
    "    f = open('test.txt', \"w\")\n",
    "    f.write(body)\n",
    "    f.close()\n",
    "    if commit == None:\n",
    "        commit = repo.head.commit\n",
    "    repo.git.checkout(commit)\n",
    "    try:\n",
    "        pyoutput = subprocess.check_output(['python3','wc.py', 'test.txt', 'ALL'])\n",
    "        output = json.loads(pyoutput)\n",
    "    except subprocess.CalledProcessError:\n",
    "        output = 0\n",
    "    return output"
   ]
  },
  {
   "cell_type": "code",
   "execution_count": 11,
   "metadata": {},
   "outputs": [],
   "source": [
    "# test inputs to exercise wc.py\n",
    "\n",
    "# expected result: {'X': 1, 'Y': 1, 'Z': 1}\n",
    "test1 = \"\"\"X Y Z\"\"\"\n",
    "\n",
    "# expected result: \n",
    "test2 = \"\"\"A B\n",
    "A C\n",
    "\"\"\"\n",
    "\n",
    "# expected result: {'A': 2, 'B': 1, 'C': 1}\n",
    "test3 = \"\"\"A B\n",
    "a c\n",
    "\"\"\"\n"
   ]
  },
  {
   "cell_type": "code",
   "execution_count": 12,
   "metadata": {},
   "outputs": [
    {
     "data": {
      "text/plain": [
       "{'X': 1, 'Y': 1, 'Z': 1}"
      ]
     },
     "execution_count": 12,
     "metadata": {},
     "output_type": "execute_result"
    }
   ],
   "source": [
    "#q7\n",
    "run_wc(test1)"
   ]
  },
  {
   "cell_type": "code",
   "execution_count": 13,
   "metadata": {},
   "outputs": [
    {
     "data": {
      "text/plain": [
       "{'A': 2, 'B': 1, 'C': 1}"
      ]
     },
     "execution_count": 13,
     "metadata": {},
     "output_type": "execute_result"
    }
   ],
   "source": [
    "#q8\n",
    "run_wc(test3)"
   ]
  },
  {
   "cell_type": "code",
   "execution_count": 14,
   "metadata": {},
   "outputs": [],
   "source": [
    "def test_table(body, expected):\n",
    "    commit, msg, author, match = [], [], [], []\n",
    "    commits = list(repo.iter_commits())[::-1]\n",
    "    for com in commits:\n",
    "        repo.git.checkout(com)\n",
    "        output = run_wc(body,com)\n",
    "        commit.append(com)\n",
    "        if '\\n' in com.message:\n",
    "            msg.append(com.message[0:20].replace('\\n',''))\n",
    "        author.append(com.author.name)\n",
    "        if output == expected:\n",
    "            match.append(True)\n",
    "        else:\n",
    "            match.append(False)\n",
    "    df = pd.DataFrame(list(zip(commit,msg, author, match)), \n",
    "               columns =['commit', 'msg20', 'author','pass']) \n",
    "    return df\n"
   ]
  },
  {
   "cell_type": "code",
   "execution_count": 15,
   "metadata": {},
   "outputs": [
    {
     "data": {
      "text/html": [
       "<div>\n",
       "<style scoped>\n",
       "    .dataframe tbody tr th:only-of-type {\n",
       "        vertical-align: middle;\n",
       "    }\n",
       "\n",
       "    .dataframe tbody tr th {\n",
       "        vertical-align: top;\n",
       "    }\n",
       "\n",
       "    .dataframe thead th {\n",
       "        text-align: right;\n",
       "    }\n",
       "</style>\n",
       "<table border=\"1\" class=\"dataframe\">\n",
       "  <thead>\n",
       "    <tr style=\"text-align: right;\">\n",
       "      <th></th>\n",
       "      <th>commit</th>\n",
       "      <th>msg20</th>\n",
       "      <th>author</th>\n",
       "      <th>pass</th>\n",
       "    </tr>\n",
       "  </thead>\n",
       "  <tbody>\n",
       "    <tr>\n",
       "      <th>0</th>\n",
       "      <td>6d7beafb8e79b7a92fed8e67673a33bb7f607dbe</td>\n",
       "      <td>count a specific wor</td>\n",
       "      <td>Ada</td>\n",
       "      <td>False</td>\n",
       "    </tr>\n",
       "    <tr>\n",
       "      <th>1</th>\n",
       "      <td>b0df6dbe111f9e28fc3a9c9b841cde5c20c365f9</td>\n",
       "      <td>support wildcards</td>\n",
       "      <td>Linus</td>\n",
       "      <td>True</td>\n",
       "    </tr>\n",
       "    <tr>\n",
       "      <th>2</th>\n",
       "      <td>761627a3ad9ee681f27211326e9149f01764ceee</td>\n",
       "      <td>bugfix</td>\n",
       "      <td>Linus</td>\n",
       "      <td>True</td>\n",
       "    </tr>\n",
       "    <tr>\n",
       "      <th>3</th>\n",
       "      <td>6f5ca9327e986315ffcacddce5d9d6195c0913b7</td>\n",
       "      <td>ignore case, usage l</td>\n",
       "      <td>Ada</td>\n",
       "      <td>True</td>\n",
       "    </tr>\n",
       "    <tr>\n",
       "      <th>4</th>\n",
       "      <td>f37e610ce055a3d894baac2d9449e6eb77c72320</td>\n",
       "      <td>do not repeatedly re</td>\n",
       "      <td>Steve</td>\n",
       "      <td>True</td>\n",
       "    </tr>\n",
       "    <tr>\n",
       "      <th>5</th>\n",
       "      <td>c10b5a6cb4f06c96f6f221df2d5ec33af767d5c5</td>\n",
       "      <td>optimize: only compu</td>\n",
       "      <td>Ada</td>\n",
       "      <td>True</td>\n",
       "    </tr>\n",
       "    <tr>\n",
       "      <th>6</th>\n",
       "      <td>f637df3f45bc389e1035cc3aadcf5d81a55f0dc4</td>\n",
       "      <td>only make one pass o</td>\n",
       "      <td>Steve</td>\n",
       "      <td>False</td>\n",
       "    </tr>\n",
       "    <tr>\n",
       "      <th>7</th>\n",
       "      <td>4e4128313b8d5b5e5d04f2e8e585f64f7c5831a4</td>\n",
       "      <td>only make one pass o</td>\n",
       "      <td>Steve</td>\n",
       "      <td>True</td>\n",
       "    </tr>\n",
       "  </tbody>\n",
       "</table>\n",
       "</div>"
      ],
      "text/plain": [
       "                                     commit                 msg20 author  \\\n",
       "0  6d7beafb8e79b7a92fed8e67673a33bb7f607dbe  count a specific wor    Ada   \n",
       "1  b0df6dbe111f9e28fc3a9c9b841cde5c20c365f9     support wildcards  Linus   \n",
       "2  761627a3ad9ee681f27211326e9149f01764ceee                bugfix  Linus   \n",
       "3  6f5ca9327e986315ffcacddce5d9d6195c0913b7  ignore case, usage l    Ada   \n",
       "4  f37e610ce055a3d894baac2d9449e6eb77c72320  do not repeatedly re  Steve   \n",
       "5  c10b5a6cb4f06c96f6f221df2d5ec33af767d5c5  optimize: only compu    Ada   \n",
       "6  f637df3f45bc389e1035cc3aadcf5d81a55f0dc4  only make one pass o  Steve   \n",
       "7  4e4128313b8d5b5e5d04f2e8e585f64f7c5831a4  only make one pass o  Steve   \n",
       "\n",
       "    pass  \n",
       "0  False  \n",
       "1   True  \n",
       "2   True  \n",
       "3   True  \n",
       "4   True  \n",
       "5   True  \n",
       "6  False  \n",
       "7   True  "
      ]
     },
     "execution_count": 15,
     "metadata": {},
     "output_type": "execute_result"
    }
   ],
   "source": [
    "#q9\n",
    "test_table(test1, {'X': 1, 'Y': 1, 'Z': 1})"
   ]
  },
  {
   "cell_type": "code",
   "execution_count": 16,
   "metadata": {},
   "outputs": [
    {
     "data": {
      "text/html": [
       "<div>\n",
       "<style scoped>\n",
       "    .dataframe tbody tr th:only-of-type {\n",
       "        vertical-align: middle;\n",
       "    }\n",
       "\n",
       "    .dataframe tbody tr th {\n",
       "        vertical-align: top;\n",
       "    }\n",
       "\n",
       "    .dataframe thead th {\n",
       "        text-align: right;\n",
       "    }\n",
       "</style>\n",
       "<table border=\"1\" class=\"dataframe\">\n",
       "  <thead>\n",
       "    <tr style=\"text-align: right;\">\n",
       "      <th></th>\n",
       "      <th>commit</th>\n",
       "      <th>msg20</th>\n",
       "      <th>author</th>\n",
       "      <th>pass</th>\n",
       "    </tr>\n",
       "  </thead>\n",
       "  <tbody>\n",
       "    <tr>\n",
       "      <th>0</th>\n",
       "      <td>6d7beafb8e79b7a92fed8e67673a33bb7f607dbe</td>\n",
       "      <td>count a specific wor</td>\n",
       "      <td>Ada</td>\n",
       "      <td>False</td>\n",
       "    </tr>\n",
       "    <tr>\n",
       "      <th>1</th>\n",
       "      <td>b0df6dbe111f9e28fc3a9c9b841cde5c20c365f9</td>\n",
       "      <td>support wildcards</td>\n",
       "      <td>Linus</td>\n",
       "      <td>False</td>\n",
       "    </tr>\n",
       "    <tr>\n",
       "      <th>2</th>\n",
       "      <td>761627a3ad9ee681f27211326e9149f01764ceee</td>\n",
       "      <td>bugfix</td>\n",
       "      <td>Linus</td>\n",
       "      <td>True</td>\n",
       "    </tr>\n",
       "    <tr>\n",
       "      <th>3</th>\n",
       "      <td>6f5ca9327e986315ffcacddce5d9d6195c0913b7</td>\n",
       "      <td>ignore case, usage l</td>\n",
       "      <td>Ada</td>\n",
       "      <td>True</td>\n",
       "    </tr>\n",
       "    <tr>\n",
       "      <th>4</th>\n",
       "      <td>f37e610ce055a3d894baac2d9449e6eb77c72320</td>\n",
       "      <td>do not repeatedly re</td>\n",
       "      <td>Steve</td>\n",
       "      <td>True</td>\n",
       "    </tr>\n",
       "    <tr>\n",
       "      <th>5</th>\n",
       "      <td>c10b5a6cb4f06c96f6f221df2d5ec33af767d5c5</td>\n",
       "      <td>optimize: only compu</td>\n",
       "      <td>Ada</td>\n",
       "      <td>True</td>\n",
       "    </tr>\n",
       "    <tr>\n",
       "      <th>6</th>\n",
       "      <td>f637df3f45bc389e1035cc3aadcf5d81a55f0dc4</td>\n",
       "      <td>only make one pass o</td>\n",
       "      <td>Steve</td>\n",
       "      <td>False</td>\n",
       "    </tr>\n",
       "    <tr>\n",
       "      <th>7</th>\n",
       "      <td>4e4128313b8d5b5e5d04f2e8e585f64f7c5831a4</td>\n",
       "      <td>only make one pass o</td>\n",
       "      <td>Steve</td>\n",
       "      <td>True</td>\n",
       "    </tr>\n",
       "  </tbody>\n",
       "</table>\n",
       "</div>"
      ],
      "text/plain": [
       "                                     commit                 msg20 author  \\\n",
       "0  6d7beafb8e79b7a92fed8e67673a33bb7f607dbe  count a specific wor    Ada   \n",
       "1  b0df6dbe111f9e28fc3a9c9b841cde5c20c365f9     support wildcards  Linus   \n",
       "2  761627a3ad9ee681f27211326e9149f01764ceee                bugfix  Linus   \n",
       "3  6f5ca9327e986315ffcacddce5d9d6195c0913b7  ignore case, usage l    Ada   \n",
       "4  f37e610ce055a3d894baac2d9449e6eb77c72320  do not repeatedly re  Steve   \n",
       "5  c10b5a6cb4f06c96f6f221df2d5ec33af767d5c5  optimize: only compu    Ada   \n",
       "6  f637df3f45bc389e1035cc3aadcf5d81a55f0dc4  only make one pass o  Steve   \n",
       "7  4e4128313b8d5b5e5d04f2e8e585f64f7c5831a4  only make one pass o  Steve   \n",
       "\n",
       "    pass  \n",
       "0  False  \n",
       "1  False  \n",
       "2   True  \n",
       "3   True  \n",
       "4   True  \n",
       "5   True  \n",
       "6  False  \n",
       "7   True  "
      ]
     },
     "execution_count": 16,
     "metadata": {},
     "output_type": "execute_result"
    }
   ],
   "source": [
    "#q10\n",
    "test_table(test2, {'A': 2, 'B': 1, 'C': 1})"
   ]
  },
  {
   "cell_type": "code",
   "execution_count": 17,
   "metadata": {},
   "outputs": [
    {
     "data": {
      "text/html": [
       "<div>\n",
       "<style scoped>\n",
       "    .dataframe tbody tr th:only-of-type {\n",
       "        vertical-align: middle;\n",
       "    }\n",
       "\n",
       "    .dataframe tbody tr th {\n",
       "        vertical-align: top;\n",
       "    }\n",
       "\n",
       "    .dataframe thead th {\n",
       "        text-align: right;\n",
       "    }\n",
       "</style>\n",
       "<table border=\"1\" class=\"dataframe\">\n",
       "  <thead>\n",
       "    <tr style=\"text-align: right;\">\n",
       "      <th></th>\n",
       "      <th>commit</th>\n",
       "      <th>msg20</th>\n",
       "      <th>author</th>\n",
       "      <th>pass</th>\n",
       "    </tr>\n",
       "  </thead>\n",
       "  <tbody>\n",
       "    <tr>\n",
       "      <th>0</th>\n",
       "      <td>6d7beafb8e79b7a92fed8e67673a33bb7f607dbe</td>\n",
       "      <td>count a specific wor</td>\n",
       "      <td>Ada</td>\n",
       "      <td>False</td>\n",
       "    </tr>\n",
       "    <tr>\n",
       "      <th>1</th>\n",
       "      <td>b0df6dbe111f9e28fc3a9c9b841cde5c20c365f9</td>\n",
       "      <td>support wildcards</td>\n",
       "      <td>Linus</td>\n",
       "      <td>False</td>\n",
       "    </tr>\n",
       "    <tr>\n",
       "      <th>2</th>\n",
       "      <td>761627a3ad9ee681f27211326e9149f01764ceee</td>\n",
       "      <td>bugfix</td>\n",
       "      <td>Linus</td>\n",
       "      <td>False</td>\n",
       "    </tr>\n",
       "    <tr>\n",
       "      <th>3</th>\n",
       "      <td>6f5ca9327e986315ffcacddce5d9d6195c0913b7</td>\n",
       "      <td>ignore case, usage l</td>\n",
       "      <td>Ada</td>\n",
       "      <td>True</td>\n",
       "    </tr>\n",
       "    <tr>\n",
       "      <th>4</th>\n",
       "      <td>f37e610ce055a3d894baac2d9449e6eb77c72320</td>\n",
       "      <td>do not repeatedly re</td>\n",
       "      <td>Steve</td>\n",
       "      <td>True</td>\n",
       "    </tr>\n",
       "    <tr>\n",
       "      <th>5</th>\n",
       "      <td>c10b5a6cb4f06c96f6f221df2d5ec33af767d5c5</td>\n",
       "      <td>optimize: only compu</td>\n",
       "      <td>Ada</td>\n",
       "      <td>True</td>\n",
       "    </tr>\n",
       "    <tr>\n",
       "      <th>6</th>\n",
       "      <td>f637df3f45bc389e1035cc3aadcf5d81a55f0dc4</td>\n",
       "      <td>only make one pass o</td>\n",
       "      <td>Steve</td>\n",
       "      <td>False</td>\n",
       "    </tr>\n",
       "    <tr>\n",
       "      <th>7</th>\n",
       "      <td>4e4128313b8d5b5e5d04f2e8e585f64f7c5831a4</td>\n",
       "      <td>only make one pass o</td>\n",
       "      <td>Steve</td>\n",
       "      <td>True</td>\n",
       "    </tr>\n",
       "  </tbody>\n",
       "</table>\n",
       "</div>"
      ],
      "text/plain": [
       "                                     commit                 msg20 author  \\\n",
       "0  6d7beafb8e79b7a92fed8e67673a33bb7f607dbe  count a specific wor    Ada   \n",
       "1  b0df6dbe111f9e28fc3a9c9b841cde5c20c365f9     support wildcards  Linus   \n",
       "2  761627a3ad9ee681f27211326e9149f01764ceee                bugfix  Linus   \n",
       "3  6f5ca9327e986315ffcacddce5d9d6195c0913b7  ignore case, usage l    Ada   \n",
       "4  f37e610ce055a3d894baac2d9449e6eb77c72320  do not repeatedly re  Steve   \n",
       "5  c10b5a6cb4f06c96f6f221df2d5ec33af767d5c5  optimize: only compu    Ada   \n",
       "6  f637df3f45bc389e1035cc3aadcf5d81a55f0dc4  only make one pass o  Steve   \n",
       "7  4e4128313b8d5b5e5d04f2e8e585f64f7c5831a4  only make one pass o  Steve   \n",
       "\n",
       "    pass  \n",
       "0  False  \n",
       "1  False  \n",
       "2  False  \n",
       "3   True  \n",
       "4   True  \n",
       "5   True  \n",
       "6  False  \n",
       "7   True  "
      ]
     },
     "execution_count": 17,
     "metadata": {},
     "output_type": "execute_result"
    }
   ],
   "source": [
    "#q11\n",
    "test_table(test3, {'A': 2, 'B': 1, 'C': 1})\n",
    "\n",
    "# the third test input seems to be the most useful to evaluate wc.py because it takes into\n",
    "# account lowercase letters, which may have been a feature added on later in the commits\n",
    "# so we can see if an 'a' and an 'A' are counted as 2 or as 1."
   ]
  },
  {
   "cell_type": "code",
   "execution_count": 18,
   "metadata": {},
   "outputs": [],
   "source": [
    "def time_run_sec(uniq_words, total_words, word_size=6, commit=None):\n",
    "    unique_list, samples = [], []\n",
    "    for i in range(uniq_words):\n",
    "        unique_list.append(''.join(random.choice(string.ascii_letters) for i in range(word_size)))\n",
    "    for i in range(total_words):\n",
    "        samples.append(random.choice(unique_list))\n",
    "    full = ' '.join(samples)\n",
    "    f = open('sample.txt', \"w\")\n",
    "    f.write(full)\n",
    "    f.close()\n",
    "    repo.git.checkout(commit)\n",
    "    start_time = time.time()\n",
    "    subprocess.run(['python3','wc.py', 'sample.txt', 'ALL'])\n",
    "    end_time = time.time()\n",
    "    return end_time - start_time\n",
    "    "
   ]
  },
  {
   "cell_type": "code",
   "execution_count": 19,
   "metadata": {},
   "outputs": [],
   "source": [
    "versions = {\n",
    "    \"v0-baseline\": \"6f5ca9327e986315ffcacddce5d9d6195c0913b7\",\n",
    "    \"v1-open-once\": \"f37e610ce055a3d894baac2d9449e6eb77c72320\",\n",
    "    \"v2-pass-per-uniq\": \"c10b5a6cb4f06c96f6f221df2d5ec33af767d5c5\",\n",
    "    \"v3-single-pass\": \"4e4128313b8d5b5e5d04f2e8e585f64f7c5831a4\",\n",
    "}\n",
    "\n",
    "times, objects, times2 = [], [], []\n",
    "for commit in versions:\n",
    "    objects.append(commit)\n",
    "    times.append((time_run_sec(100,5000,6,versions[commit])) * 1000)\n",
    "    times2.append((time_run_sec(1,5000,6,versions[commit])) * 1000)\n",
    "objects = objects[::-1]\n",
    "times = times[::-1]\n",
    "times2 = times2[::-1]"
   ]
  },
  {
   "cell_type": "code",
   "execution_count": 20,
   "metadata": {},
   "outputs": [
    {
     "data": {
      "text/plain": [
       "(10, 7403.458104315111)"
      ]
     },
     "execution_count": 20,
     "metadata": {},
     "output_type": "execute_result"
    },
    {
     "data": {
      "image/png": "[encoded data removed]",
      "text/plain": [
       "<Figure size 432x288 with 1 Axes>"
      ]
     },
     "metadata": {
      "needs_background": "light"
     },
     "output_type": "display_data"
    }
   ],
   "source": [
    "#q12\n",
    "df = pd.DataFrame(list(zip(objects, times)),\n",
    "                  columns =['objects', 'times']) \n",
    "ax = df.plot(kind='barh', legend = False, color = 'black', logx=True )\n",
    "ax.spines['right'].set_visible(False)\n",
    "ax.spines['top'].set_visible(False)\n",
    "ax.set_yticklabels(objects)\n",
    "ax.set_xlabel(\"Exec Time (ms)\")\n",
    "plt.xlim(10**1)"
   ]
  },
  {
   "cell_type": "code",
   "execution_count": 21,
   "metadata": {},
   "outputs": [
    {
     "data": {
      "text/plain": [
       "(10, 8637.01595537894)"
      ]
     },
     "execution_count": 21,
     "metadata": {},
     "output_type": "execute_result"
    },
    {
     "data": {
      "image/png": "[encoded data removed]",
      "text/plain": [
       "<Figure size 432x288 with 1 Axes>"
      ]
     },
     "metadata": {
      "needs_background": "light"
     },
     "output_type": "display_data"
    }
   ],
   "source": [
    "#q13\n",
    "df = pd.DataFrame(list(zip(objects, times2)),\n",
    "                  columns =['objects', 'times2']) \n",
    "ax = df.plot(kind='barh', legend = False, color = 'black', logx=True )\n",
    "ax.spines['right'].set_visible(False)\n",
    "ax.spines['top'].set_visible(False)\n",
    "ax.set_yticklabels(objects)\n",
    "ax.set_xlabel(\"Exec Time (ms)\")\n",
    "plt.xlim(10**1)\n",
    "\n",
    "# Version 3 is better at checking multiple unique words, so if there is only 1 unique word then they\n",
    "# will relatively have the same runtime. So version 3 will do better if there is more than 1 unique word"
   ]
  },
  {
   "cell_type": "code",
   "execution_count": 22,
   "metadata": {},
   "outputs": [],
   "source": [
    "def measure(total_words, percent_unique, commit):\n",
    "    unique_words = []\n",
    "    for i in range(len(total_words)):\n",
    "        unique = int(total_words[i] * (percent_unique/100))\n",
    "        unique_words.append(time_run_sec(unique,total_words[i], 6, commit))\n",
    "    return unique_words\n",
    "v2, v3 = [], []\n",
    "v2.append(measure([1000,2000,5000,10000], 1, \"c10b5a6cb4f06c96f6f221df2d5ec33af767d5c5\"))\n",
    "v2.append(measure([1000,2000,5000,10000], 5,\"c10b5a6cb4f06c96f6f221df2d5ec33af767d5c5\"))\n",
    "v2.append(measure([1000,2000,5000,10000], 10,\"c10b5a6cb4f06c96f6f221df2d5ec33af767d5c5\"))\n",
    "\n",
    "v3.append(measure([1000,2000,5000,10000], 1, \"4e4128313b8d5b5e5d04f2e8e585f64f7c5831a4\"))\n",
    "v3.append(measure([1000,2000,5000,10000], 5, \"4e4128313b8d5b5e5d04f2e8e585f64f7c5831a4\"))\n",
    "v3.append(measure([1000,2000,5000,10000], 10, \"4e4128313b8d5b5e5d04f2e8e585f64f7c5831a4\"))\n",
    "\n",
    "df1 = pd.DataFrame(list(zip(v2[0], v2[1],v2[2])),\n",
    "                  columns =['10', '5', '1'], index =[1000,2000,5000,10000]) \n",
    "df1.index.names = ['total words']\n",
    "df1.columns.names = ['percent unique']\n",
    "\n",
    "df2 = pd.DataFrame(list(zip(v3[0], v3[1],v3[2])),\n",
    "                  columns =['10', '5', '1'], index =[1000,2000,5000,10000]) \n",
    "df2.index.names = ['total words']\n",
    "df2.columns.names = ['percent unique']"
   ]
  },
  {
   "cell_type": "code",
   "execution_count": 23,
   "metadata": {},
   "outputs": [
    {
     "data": {
      "text/plain": [
       "(0, 10000)"
      ]
     },
     "execution_count": 23,
     "metadata": {},
     "output_type": "execute_result"
    },
    {
     "data": {
      "image/png": "[encoded data removed]",
      "text/plain": [
       "<Figure size 432x288 with 1 Axes>"
      ]
     },
     "metadata": {
      "needs_background": "light"
     },
     "output_type": "display_data"
    },
    {
     "data": {
      "image/png": "[encoded data removed]",
      "text/plain": [
       "<Figure size 432x288 with 1 Axes>"
      ]
     },
     "metadata": {
      "needs_background": "light"
     },
     "output_type": "display_data"
    }
   ],
   "source": [
    "#q14\n",
    "ax = df1.plot.line(legend =False, title = 'Version 2')\n",
    "ax2 = df2.plot.line(title = 'Version 3')\n",
    "ax.set_xlim(0,10000)\n",
    "ax2.set_xlim(0,10000)"
   ]
  },
  {
   "cell_type": "code",
   "execution_count": 24,
   "metadata": {},
   "outputs": [
    {
     "data": {
      "text/plain": [
       "<matplotlib.axes._subplots.AxesSubplot at 0x7fc2c0e44a90>"
      ]
     },
     "execution_count": 24,
     "metadata": {},
     "output_type": "execute_result"
    },
    {
     "data": {
      "image/png": "[encoded data removed]",
      "text/plain": [
       "<Figure size 432x288 with 1 Axes>"
      ]
     },
     "metadata": {
      "needs_background": "light"
     },
     "output_type": "display_data"
    },
    {
     "data": {
      "image/png": "[encoded data removed]",
      "text/plain": [
       "<Figure size 432x288 with 1 Axes>"
      ]
     },
     "metadata": {
      "needs_background": "light"
     },
     "output_type": "display_data"
    }
   ],
   "source": [
    "#q15\n",
    "df1.T.plot.line(title = 'version 2', legend =False)\n",
    "df2.T.plot.line(yticks = [], title = \"version 3\")\n",
    "# I think q15 shows a better performance trend as there is more data that can be seen.\n",
    "# The trends in q15 are more visually revealing than in q14"
   ]
  },
  {
   "cell_type": "code",
   "execution_count": 25,
   "metadata": {},
   "outputs": [
    {
     "data": {
      "text/plain": [
       "<matplotlib.collections.PolyCollection at 0x7fc2c0d8b5c0>"
      ]
     },
     "execution_count": 25,
     "metadata": {},
     "output_type": "execute_result"
    },
    {
     "data": {
      "image/png": "[encoded data removed]",
      "text/plain": [
       "<Figure size 432x288 with 1 Axes>"
      ]
     },
     "metadata": {
      "needs_background": "light"
     },
     "output_type": "display_data"
    }
   ],
   "source": [
    "#q16\n",
    "df = pd.DataFrame()\n",
    "df.index.name = \"total\"\n",
    "df.columns.name = \"trial\"\n",
    "for i in range(10):\n",
    "    total_words = 10000 * (i+1)\n",
    "    uniq = total_words // 10\n",
    "    for trial in range(5):\n",
    "        df.loc[total_words/1000, trial] = time_run_sec(uniq, total_words, 6, \"4e4128313b8d5b5e5d04f2e8e585f64f7c5831a4\") * 1000 # TODO: call time_run_sec\n",
    "mean = df.mean(axis=1)\n",
    "std = df.std(axis=1)\n",
    "plt.fill_between(mean.index, mean-std, mean+std, color='b', alpha=0.2)"
   ]
  },
  {
   "cell_type": "code",
   "execution_count": 26,
   "metadata": {},
   "outputs": [],
   "source": [
    "class Counter:\n",
    "    def __init__(self):\n",
    "        self.count = {}\n",
    "        self.value = 0\n",
    "    def __setitem__(self,key, value):\n",
    "        self.count[key.upper()] = value\n",
    "        print(self.count)\n",
    "    def __repr__(self):\n",
    "        return str(self.count)\n",
    "    def __getitem__(self, key):\n",
    "        return self.count.get(key.upper(),0)\n",
    "    def max_keys(self):\n",
    "        maxi, max_list = 0, []\n",
    "        for val in self.count:\n",
    "            if self.count.get(val) > maxi:\n",
    "                maxi = self.count.get(val)\n",
    "        for val in self.count:\n",
    "            if self.count.get(val) == maxi:\n",
    "                max_list.append(val)\n",
    "        return sorted(max_list)"
   ]
  },
  {
   "cell_type": "code",
   "execution_count": 27,
   "metadata": {},
   "outputs": [
    {
     "data": {
      "text/plain": [
       "0"
      ]
     },
     "execution_count": 27,
     "metadata": {},
     "output_type": "execute_result"
    }
   ],
   "source": [
    "#q17\n",
    "c = Counter()\n",
    "c['apple']"
   ]
  },
  {
   "cell_type": "code",
   "execution_count": 28,
   "metadata": {},
   "outputs": [
    {
     "name": "stdout",
     "output_type": "stream",
     "text": [
      "{'APPLE': 1}\n",
      "{'APPLE': 1, 'BANANA': 1}\n",
      "{'APPLE': 1, 'BANANA': 2}\n",
      "{'APPLE': 1, 'BANANA': 2, 'KIWI': 2}\n"
     ]
    },
    {
     "data": {
      "text/plain": [
       "2"
      ]
     },
     "execution_count": 28,
     "metadata": {},
     "output_type": "execute_result"
    }
   ],
   "source": [
    "#q18\n",
    "c = Counter()\n",
    "c[\"apple\"] += 1\n",
    "c[\"banana\"] += 1\n",
    "c[\"BANANA\"] += 1\n",
    "c[\"kiwi\"] += 2\n",
    "c[\"banana\"]"
   ]
  },
  {
   "cell_type": "code",
   "execution_count": 29,
   "metadata": {},
   "outputs": [
    {
     "data": {
      "text/plain": [
       "{'APPLE': 1, 'BANANA': 2, 'KIWI': 2}"
      ]
     },
     "execution_count": 29,
     "metadata": {},
     "output_type": "execute_result"
    }
   ],
   "source": [
    "#q19\n",
    "c"
   ]
  },
  {
   "cell_type": "code",
   "execution_count": 30,
   "metadata": {},
   "outputs": [
    {
     "data": {
      "text/plain": [
       "['BANANA', 'KIWI']"
      ]
     },
     "execution_count": 30,
     "metadata": {},
     "output_type": "execute_result"
    }
   ],
   "source": [
    "#q20\n",
    "c.max_keys()"
   ]
  }
 ],
 "metadata": {
  "kernelspec": {
   "display_name": "Python 3",
   "language": "python",
   "name": "python3"
  },
  "language_info": {
   "codemirror_mode": {
    "name": "ipython",
    "version": 3
   },
   "file_extension": ".py",
   "mimetype": "text/x-python",
   "name": "python",
   "nbconvert_exporter": "python",
   "pygments_lexer": "ipython3",
   "version": "3.6.9"
  }
 },
 "nbformat": 4,
 "nbformat_minor": 4
}
